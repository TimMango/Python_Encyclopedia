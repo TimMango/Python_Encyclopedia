{
 "cells": [
  {
   "cell_type": "markdown",
   "metadata": {},
   "source": [
    "### Create SQL Database\n",
    "\n",
    "### Object Method Database (Preferred)"
   ]
  },
  {
   "cell_type": "code",
   "execution_count": 10,
   "metadata": {},
   "outputs": [
    {
     "name": "stdout",
     "output_type": "stream",
     "text": [
      "2020-12-21 17:01:19,531 INFO sqlalchemy.engine.base.Engine SELECT CAST('test plain returns' AS VARCHAR(60)) AS anon_1\n",
      "2020-12-21 17:01:19,532 INFO sqlalchemy.engine.base.Engine ()\n",
      "2020-12-21 17:01:19,532 INFO sqlalchemy.engine.base.Engine SELECT CAST('test unicode returns' AS VARCHAR(60)) AS anon_1\n",
      "2020-12-21 17:01:19,533 INFO sqlalchemy.engine.base.Engine ()\n",
      "2020-12-21 17:01:19,534 INFO sqlalchemy.engine.base.Engine PRAGMA table_info(\"users\")\n",
      "2020-12-21 17:01:19,534 INFO sqlalchemy.engine.base.Engine ()\n",
      "2020-12-21 17:01:19,537 INFO sqlalchemy.engine.base.Engine PRAGMA table_info(\"users\")\n",
      "2020-12-21 17:01:19,537 INFO sqlalchemy.engine.base.Engine ()\n",
      "2020-12-21 17:01:19,539 INFO sqlalchemy.engine.base.Engine SELECT sql FROM  (SELECT * FROM sqlite_master UNION ALL   SELECT * FROM sqlite_temp_master) WHERE name = 'users' AND type = 'table'\n",
      "2020-12-21 17:01:19,540 INFO sqlalchemy.engine.base.Engine ()\n",
      "2020-12-21 17:01:19,540 INFO sqlalchemy.engine.base.Engine PRAGMA foreign_key_list(\"users\")\n",
      "2020-12-21 17:01:19,541 INFO sqlalchemy.engine.base.Engine ()\n",
      "2020-12-21 17:01:19,542 INFO sqlalchemy.engine.base.Engine SELECT sql FROM  (SELECT * FROM sqlite_master UNION ALL   SELECT * FROM sqlite_temp_master) WHERE name = 'users' AND type = 'table'\n",
      "2020-12-21 17:01:19,543 INFO sqlalchemy.engine.base.Engine ()\n",
      "2020-12-21 17:01:19,545 INFO sqlalchemy.engine.base.Engine PRAGMA index_list(\"users\")\n",
      "2020-12-21 17:01:19,545 INFO sqlalchemy.engine.base.Engine ()\n",
      "2020-12-21 17:01:19,547 INFO sqlalchemy.engine.base.Engine PRAGMA index_list(\"users\")\n",
      "2020-12-21 17:01:19,548 INFO sqlalchemy.engine.base.Engine ()\n",
      "2020-12-21 17:01:19,549 INFO sqlalchemy.engine.base.Engine SELECT sql FROM  (SELECT * FROM sqlite_master UNION ALL   SELECT * FROM sqlite_temp_master) WHERE name = 'users' AND type = 'table'\n",
      "2020-12-21 17:01:19,550 INFO sqlalchemy.engine.base.Engine ()\n"
     ]
    }
   ],
   "source": [
    "import sqlalchemy\n",
    "from sqlalchemy import create_engine, ForeignKey\n",
    "from sqlalchemy import MetaData, Table, Column, Date, Integer, String, DateTime\n",
    "from sqlalchemy.ext.declarative import declarative_base\n",
    "import datetime\n",
    "\n",
    "engine = create_engine('sqlite:///school.db', echo=True)\n",
    "Base = declarative_base()\n",
    "meta = MetaData()\n",
    "\n",
    "from sqlalchemy import Sequence\n",
    "Column(Integer, Sequence('user_id_seq'), primary_key=True)\n",
    "\n",
    "class User(Base):\n",
    "    __tablename__ = 'users'\n",
    "    id = Column(Integer, Sequence('user_id_seq'), primary_key=True)\n",
    "    name = Column(String(50))\n",
    "    fullname = Column(String(50))\n",
    "    nickname = Column(String(50))\n",
    "    lastname = Column(String(50))\n",
    "    datetime = Column(DateTime(50), default=datetime.datetime.now())\n",
    "\n",
    "    def __repr__(self):\n",
    "        return \"<User(id='%s', name='%s', fullname='%s', nickname='%s',  lastname='%s', datetime='%s')>\" % (\n",
    "                                self.id, self.name, self.fullname, self.nickname, self.lastname, self.datetime)\n",
    "    \n",
    "Base.metadata.create_all(engine)\n",
    "\n",
    "metadata = sqlalchemy.schema.MetaData(bind=engine,)\n",
    "users = sqlalchemy.Table('users', metadata, autoload=True)"
   ]
  },
  {
   "cell_type": "markdown",
   "metadata": {},
   "source": [
    "### Table Method Database"
   ]
  },
  {
   "cell_type": "code",
   "execution_count": 8,
   "metadata": {},
   "outputs": [
    {
     "name": "stdout",
     "output_type": "stream",
     "text": [
      "2020-12-21 16:59:59,166 INFO sqlalchemy.engine.base.Engine SELECT CAST('test plain returns' AS VARCHAR(60)) AS anon_1\n",
      "2020-12-21 16:59:59,167 INFO sqlalchemy.engine.base.Engine ()\n",
      "2020-12-21 16:59:59,167 INFO sqlalchemy.engine.base.Engine SELECT CAST('test unicode returns' AS VARCHAR(60)) AS anon_1\n",
      "2020-12-21 16:59:59,168 INFO sqlalchemy.engine.base.Engine ()\n",
      "2020-12-21 16:59:59,168 INFO sqlalchemy.engine.base.Engine PRAGMA table_info(\"users\")\n",
      "2020-12-21 16:59:59,169 INFO sqlalchemy.engine.base.Engine ()\n"
     ]
    }
   ],
   "source": [
    "from sqlalchemy import create_engine, ForeignKey\n",
    "from sqlalchemy import MetaData, Table, Column, Date, Integer, String, DateTime\n",
    "from sqlalchemy.ext.declarative import declarative_base\n",
    "import datetime\n",
    "\n",
    "engine = create_engine('sqlite:///school.db', echo=True)\n",
    "Base = declarative_base()\n",
    "meta = MetaData()\n",
    "\n",
    "users = Table(\n",
    "   'users', meta,\n",
    "    Column('id', Integer(), primary_key=True, nullable=False),\n",
    "    Column('name', String()),\n",
    "    Column('fullname', String()),\n",
    "    Column('lastname', String()),\n",
    "    Column('nickname', String()),\n",
    "    Column('datetime', DateTime(), default=datetime.datetime.now()))\n",
    "\n",
    "    \n",
    "meta.create_all(engine)"
   ]
  },
  {
   "cell_type": "code",
   "execution_count": 4,
   "metadata": {},
   "outputs": [
    {
     "name": "stdout",
     "output_type": "stream",
     "text": [
      "2020-12-21 16:58:40,304 INFO sqlalchemy.engine.base.Engine INSERT INTO users (id, name, fullname, nickname, lastname) VALUES (?, ?, ?, ?, ?)\n",
      "2020-12-21 16:58:40,305 INFO sqlalchemy.engine.base.Engine ((1, 'Rajiv', 'Rajiv Kamir', 'Raj', 'Khamir'), (2, 'Komal', 'Komal Bhandari', 'Mal', 'Bhandari'), (3, 'Abdul', 'Abdul Sattar', 'A', 'Sattar'), (4, 'Priya', 'Priya Rajhans', 'Pri', 'Rajhans'))\n",
      "2020-12-21 16:58:40,306 INFO sqlalchemy.engine.base.Engine COMMIT\n"
     ]
    },
    {
     "data": {
      "text/plain": [
       "<sqlalchemy.engine.result.ResultProxy at 0x7ff7783ef5f8>"
      ]
     },
     "execution_count": 4,
     "metadata": {},
     "output_type": "execute_result"
    }
   ],
   "source": [
    "## Insert Several Rows into users table\n",
    "\n",
    "conn = engine.connect()\n",
    "metadata = MetaData(engine)\n",
    "\n",
    "conn.execute(users.insert(), [\n",
    "   {'id':1, 'name':'Rajiv', 'fullname': 'Rajiv Kamir',  'lastname' : 'Khamir', 'nickname' : 'Raj'},\n",
    "   {'id':2, 'name':'Komal', 'fullname': 'Komal Bhandari', 'lastname' : 'Bhandari', 'nickname' : 'Mal'},\n",
    "   {'id':3, 'name':'Abdul', 'fullname': 'Abdul Sattar', 'lastname' : 'Sattar', 'nickname' : 'A'},\n",
    "   {'id':4, 'name':'Priya', 'fullname': 'Priya Rajhans', 'lastname' : 'Rajhans', 'nickname' : 'Pri'},\n",
    "])"
   ]
  },
  {
   "cell_type": "markdown",
   "metadata": {},
   "source": [
    "### Insert Pandas DataFrame into SQL Database"
   ]
  },
  {
   "cell_type": "code",
   "execution_count": 2,
   "metadata": {},
   "outputs": [
    {
     "name": "stdout",
     "output_type": "stream",
     "text": [
      "2020-12-21 16:58:02,420 INFO sqlalchemy.engine.base.Engine SELECT CAST('test plain returns' AS VARCHAR(60)) AS anon_1\n",
      "2020-12-21 16:58:02,421 INFO sqlalchemy.engine.base.Engine ()\n",
      "2020-12-21 16:58:02,421 INFO sqlalchemy.engine.base.Engine SELECT CAST('test unicode returns' AS VARCHAR(60)) AS anon_1\n",
      "2020-12-21 16:58:02,422 INFO sqlalchemy.engine.base.Engine ()\n",
      "2020-12-21 16:58:02,425 INFO sqlalchemy.engine.base.Engine PRAGMA table_info(\"contacts\")\n",
      "2020-12-21 16:58:02,425 INFO sqlalchemy.engine.base.Engine ()\n",
      "2020-12-21 16:58:02,427 INFO sqlalchemy.engine.base.Engine \n",
      "CREATE TABLE contacts (\n",
      "\tid INTEGER NOT NULL, \n",
      "\tfirstname VARCHAR(500), \n",
      "\tlastname VARCHAR(500), \n",
      "\tcompany_name VARCHAR(500), \n",
      "\tstreet VARCHAR(500), \n",
      "\tcity VARCHAR(500), \n",
      "\tcounty VARCHAR(500), \n",
      "\tstate VARCHAR(500), \n",
      "\tzipcode INTEGER, \n",
      "\ttelephone VARCHAR(500), \n",
      "\temail VARCHAR(500), \n",
      "\tPRIMARY KEY (id)\n",
      ")\n",
      "\n",
      "\n",
      "2020-12-21 16:58:02,427 INFO sqlalchemy.engine.base.Engine ()\n",
      "2020-12-21 16:58:02,429 INFO sqlalchemy.engine.base.Engine COMMIT\n",
      "2020-12-21 16:58:02,434 INFO sqlalchemy.engine.base.Engine SELECT name FROM sqlite_master WHERE type='table' ORDER BY name\n",
      "2020-12-21 16:58:02,435 INFO sqlalchemy.engine.base.Engine ()\n",
      "2020-12-21 16:58:02,437 INFO sqlalchemy.engine.base.Engine PRAGMA table_info(\"contacts\")\n",
      "2020-12-21 16:58:02,437 INFO sqlalchemy.engine.base.Engine ()\n",
      "2020-12-21 16:58:02,439 INFO sqlalchemy.engine.base.Engine SELECT sql FROM  (SELECT * FROM sqlite_master UNION ALL   SELECT * FROM sqlite_temp_master) WHERE name = 'contacts' AND type = 'table'\n",
      "2020-12-21 16:58:02,440 INFO sqlalchemy.engine.base.Engine ()\n",
      "2020-12-21 16:58:02,441 INFO sqlalchemy.engine.base.Engine PRAGMA foreign_key_list(\"contacts\")\n",
      "2020-12-21 16:58:02,442 INFO sqlalchemy.engine.base.Engine ()\n",
      "2020-12-21 16:58:02,442 INFO sqlalchemy.engine.base.Engine SELECT sql FROM  (SELECT * FROM sqlite_master UNION ALL   SELECT * FROM sqlite_temp_master) WHERE name = 'contacts' AND type = 'table'\n",
      "2020-12-21 16:58:02,443 INFO sqlalchemy.engine.base.Engine ()\n",
      "2020-12-21 16:58:02,444 INFO sqlalchemy.engine.base.Engine PRAGMA index_list(\"contacts\")\n",
      "2020-12-21 16:58:02,445 INFO sqlalchemy.engine.base.Engine ()\n",
      "2020-12-21 16:58:02,446 INFO sqlalchemy.engine.base.Engine PRAGMA index_list(\"contacts\")\n",
      "2020-12-21 16:58:02,446 INFO sqlalchemy.engine.base.Engine ()\n",
      "2020-12-21 16:58:02,447 INFO sqlalchemy.engine.base.Engine SELECT sql FROM  (SELECT * FROM sqlite_master UNION ALL   SELECT * FROM sqlite_temp_master) WHERE name = 'contacts' AND type = 'table'\n",
      "2020-12-21 16:58:02,448 INFO sqlalchemy.engine.base.Engine ()\n",
      "2020-12-21 16:58:02,449 INFO sqlalchemy.engine.base.Engine PRAGMA table_info(\"users\")\n",
      "2020-12-21 16:58:02,449 INFO sqlalchemy.engine.base.Engine ()\n",
      "2020-12-21 16:58:02,451 INFO sqlalchemy.engine.base.Engine SELECT sql FROM  (SELECT * FROM sqlite_master UNION ALL   SELECT * FROM sqlite_temp_master) WHERE name = 'users' AND type = 'table'\n",
      "2020-12-21 16:58:02,452 INFO sqlalchemy.engine.base.Engine ()\n",
      "2020-12-21 16:58:02,453 INFO sqlalchemy.engine.base.Engine PRAGMA foreign_key_list(\"users\")\n",
      "2020-12-21 16:58:02,454 INFO sqlalchemy.engine.base.Engine ()\n",
      "2020-12-21 16:58:02,455 INFO sqlalchemy.engine.base.Engine SELECT sql FROM  (SELECT * FROM sqlite_master UNION ALL   SELECT * FROM sqlite_temp_master) WHERE name = 'users' AND type = 'table'\n",
      "2020-12-21 16:58:02,456 INFO sqlalchemy.engine.base.Engine ()\n",
      "2020-12-21 16:58:02,457 INFO sqlalchemy.engine.base.Engine PRAGMA index_list(\"users\")\n",
      "2020-12-21 16:58:02,457 INFO sqlalchemy.engine.base.Engine ()\n",
      "2020-12-21 16:58:02,459 INFO sqlalchemy.engine.base.Engine PRAGMA index_list(\"users\")\n",
      "2020-12-21 16:58:02,460 INFO sqlalchemy.engine.base.Engine ()\n",
      "2020-12-21 16:58:02,461 INFO sqlalchemy.engine.base.Engine SELECT sql FROM  (SELECT * FROM sqlite_master UNION ALL   SELECT * FROM sqlite_temp_master) WHERE name = 'users' AND type = 'table'\n",
      "2020-12-21 16:58:02,461 INFO sqlalchemy.engine.base.Engine ()\n",
      "2020-12-21 16:58:02,464 INFO sqlalchemy.engine.base.Engine INSERT INTO contacts (firstname, lastname, company_name, street, city, county, state, zipcode, telephone, email) VALUES (?, ?, ?, ?, ?, ?, ?, ?, ?, ?)\n",
      "2020-12-21 16:58:02,465 INFO sqlalchemy.engine.base.Engine (('James', 'Butt', 'Benton, John B Jr', '6649 N Blue Gum St', 'New Orleans', 'Orleans', 'LA', 70116, '504-845-1427', 'jbutt@gmail.com'), ('Josephine', 'Darakjy', 'Chanay, Jeffrey A Esq', '4 B Blue Ridge Blvd', 'Brighton', 'Livingston', 'MI', 48116, '810-374-9840', 'josephine_darakjy@darakjy.org'), ('Art', 'Venere', 'Chemel, James L Cpa', '8 W Cerritos Ave #54', 'Bridgeport', 'Gloucester', 'NJ', 8014, '856-264-4130', 'art@venere.org'), ('Lenna', 'Paprocki', 'Feltz Printing Service', '639 Main St', 'Anchorage', 'Anchorage', 'AK', 99501, '907-921-2010', 'lpaprocki@hotmail.com'), ('Donette', 'Foller', 'Printing Dimensions', '34 Center St', 'Hamilton', 'Butler', 'OH', 45011, '513-549-4561', 'donette.foller@cox.net'), ('Simona', 'Morasca', 'Chapman, Ross E Esq', '3 Mcauley Dr', 'Ashland', 'Ashland', 'OH', 44805, '419-800-6759', 'simona@morasca.com'), ('Mitsue', 'Tollner', 'Morlong Associates', '7 Eads St', 'Chicago', 'Cook', 'IL', 60632, '773-924-8565', 'mitsue_tollner@yahoo.com'), ('Leota', 'Dilliard', 'Commercial Press', '7 W Jackson Blvd', 'San Jose', 'Santa Clara', 'CA', 95111, '408-813-1105', 'leota@hotmail.com')  ... displaying 10 of 50 total bound parameter sets ...  ('Emerson', 'Bowley', 'Knights Inn', '762 S Main St', 'Madison', 'Dane', 'WI', 53711, '608-658-7940', 'emerson.bowley@bowley.org'), ('Blair', 'Malet', 'Bollinger Mach Shp & Shipyard', '209 Decker Dr', 'Philadelphia', 'Philadelphia', 'PA', 19132, '215-794-4519', 'bmalet@yahoo.com'))\n",
      "2020-12-21 16:58:02,468 INFO sqlalchemy.engine.base.Engine COMMIT\n"
     ]
    },
    {
     "name": "stderr",
     "output_type": "stream",
     "text": [
      "/Users/Mango/anaconda3/lib/python3.7/site-packages/ipykernel_launcher.py:46: SADeprecationWarning: reflect=True is deprecate; please use the reflect() method.\n"
     ]
    }
   ],
   "source": [
    "import pandas as pd\n",
    "contacts = pd.read_csv('50-contacts.csv')\n",
    "\n",
    "import sqlalchemy\n",
    "from sqlalchemy import create_engine\n",
    "from sqlalchemy.ext.declarative import declarative_base\n",
    "from sqlalchemy import Column, Integer, String, Numeric\n",
    "from sqlalchemy.orm import sessionmaker\n",
    "import pandas as pd\n",
    "\n",
    "\n",
    "# Set up of the engine to connect to the database\n",
    "# the urlquote is used for passing the password which might contain special characters such as \"/\"\n",
    "engine = create_engine('sqlite:///school.db', echo=True)\n",
    "conn = engine.connect()\n",
    "Base = declarative_base()\n",
    "\n",
    "#Declaration of the class in order to write into the database. This structure is standard and should align with SQLAlchemy's doc.\n",
    "class User(Base):\n",
    "    __tablename__ = 'contacts'\n",
    "    id = Column(Integer, primary_key=True)\n",
    "    firstname = Column(String(500))\n",
    "    lastname = Column(String(500))\n",
    "    company_name = Column(String(500))\n",
    "    street = Column(String(500))\n",
    "    city = Column(String(500))\n",
    "    county = Column(String(500))\n",
    "    state = Column(String(500))\n",
    "    zipcode  = Column(Integer())\n",
    "    telephone  = Column(String(500))\n",
    "    email = Column(String(500))\n",
    "\n",
    "    def __repr__(self):\n",
    "        return \"(id='%s', Date='%s', Type='%s', Value='%s')\" % (self.id, self.Date, self.Type, self.Value)\n",
    "Base.metadata.create_all(engine)\n",
    "\n",
    "# Set up of the table in db and the file to import\n",
    "fileToRead = '50-contacts.csv'\n",
    "tableToWriteTo = 'contacts'\n",
    "\n",
    "# Panda to create a lovely dataframe\n",
    "df_to_be_written = pd.read_csv(fileToRead)\n",
    "# The orient='records' is the key of this, it allows to align with the format mentioned in the doc to insert in bulks.\n",
    "listToWrite = df_to_be_written.to_dict(orient='records')\n",
    "\n",
    "metadata = sqlalchemy.schema.MetaData(bind=engine,reflect=True)\n",
    "table = sqlalchemy.Table(tableToWriteTo, metadata, autoload=True)\n",
    "\n",
    "# Open the session\n",
    "Session = sessionmaker(bind=engine)\n",
    "session = Session()\n",
    "\n",
    "# Insert the dataframe into the database in one bulk\n",
    "conn.execute(table.insert(), listToWrite)\n",
    "\n",
    "# Commit the changes\n",
    "session.commit()\n",
    "\n",
    "# Close the session\n",
    "session.close()"
   ]
  },
  {
   "cell_type": "code",
   "execution_count": null,
   "metadata": {},
   "outputs": [],
   "source": [
    "### Update data Example\n",
    "\n",
    "#Assigns unique ID and updates data based on ID\n",
    "\n",
    "# @app.route('/')\n",
    "# def index():\n",
    "#     if 'id' in session.keys() == True:\n",
    "#         pass\n",
    "#     else:\n",
    "#         session['id'] = uuid.uuid4().hex[:16]\n",
    "#         id = session['id']\n",
    "\n",
    "#     mydata = Data(id, None, None, None, None, 250, 250, None, None, None,\n",
    "#                  'https://live.staticflickr.com/65535/40830745703_6430007c6a_b.jpg',\n",
    "#                  'https://live.staticflickr.com/5816/23486046021_96b0529547_b.jpg', \n",
    "#                  'https://live.staticflickr.com/705/23272768780_200797f5cf_b.jpg',\n",
    "#                  'https://live.staticflickr.com/622/31379579370_8409d5b337_b.jpg',\n",
    "#                  'https://live.staticflickr.com/509/31784388130_81aec36062_b.jpg',\n",
    "#                  'https://live.staticflickr.com/4586/38049127124_de39d7f24b_b.jpg', \n",
    "#                  'https://live.staticflickr.com/1959/44587024794_19c01982fa_b.jpg', \n",
    "#                  'https://live.staticflickr.com/276/30909743094_f15db2426e_b.jpg',\n",
    "#                  'https://live.staticflickr.com/1978/30429922717_26c8cec30d_b.jpg',\n",
    "#                  'https://live.staticflickr.com/1978/43694954610_a90cf35f87_b.jpg',\n",
    "#                  'https://live.staticflickr.com/90/277840874_9983fe8bbe_o.jpg',\n",
    "#                  'https://live.staticflickr.com/544/20256001381_260f1f296f_b.jpg',\n",
    "#                  'https://live.staticflickr.com/1933/45199962262_da696b1a97_b.jpg',\n",
    "#                  'https://live.staticflickr.com/2922/32436807393_1ef839813c_b.jpg',\n",
    "#                  'https://live.staticflickr.com/4687/39376518292_b68567da60_b.jpg')\n",
    "\n",
    "#     db.session.add(mydata)\n",
    "#     db.session.commit()\n",
    "#     return render_template('index.html')\n",
    "\n",
    "\n",
    "# ##Update data by using ID\n",
    "# def quote_text():\n",
    "#     var_id = session['id']\n",
    "#     data = db.session.query(Data).filter(Data.id == var_id).first()\n",
    "\n",
    "#     data.quote_text = str(request.form['Quote_Text'])\n",
    "#     db.session.commit()"
   ]
  },
  {
   "cell_type": "markdown",
   "metadata": {},
   "source": [
    "### Query SQL Database"
   ]
  },
  {
   "cell_type": "code",
   "execution_count": 11,
   "metadata": {},
   "outputs": [
    {
     "name": "stdout",
     "output_type": "stream",
     "text": [
      "2020-12-21 17:01:25,571 INFO sqlalchemy.engine.base.Engine BEGIN (implicit)\n",
      "2020-12-21 17:01:25,572 INFO sqlalchemy.engine.base.Engine SELECT users.nickname AS users_nickname, users.lastname AS users_lastname \n",
      "FROM users\n",
      "2020-12-21 17:01:25,573 INFO sqlalchemy.engine.base.Engine ()\n",
      "Raj Khamir\n",
      "Mal Bhandari\n",
      "A Sattar\n",
      "Pri Rajhans\n"
     ]
    }
   ],
   "source": [
    "from sqlalchemy.orm import sessionmaker\n",
    "session = sessionmaker(bind=engine)\n",
    "session=session()\n",
    "\n",
    "for nickname, lastname in session.query(User.nickname, User.lastname):\n",
    "     print(nickname, lastname)"
   ]
  },
  {
   "cell_type": "code",
   "execution_count": 12,
   "metadata": {},
   "outputs": [
    {
     "name": "stdout",
     "output_type": "stream",
     "text": [
      "2020-12-21 17:01:27,468 INFO sqlalchemy.engine.base.Engine SELECT users.id AS users_id, users.name AS users_name, users.fullname AS users_fullname, users.nickname AS users_nickname, users.lastname AS users_lastname, users.datetime AS users_datetime \n",
      "FROM users ORDER BY users.id\n",
      " LIMIT ? OFFSET ?\n",
      "2020-12-21 17:01:27,469 INFO sqlalchemy.engine.base.Engine (2, 1)\n",
      "<User(id='2', name='Komal', fullname='Komal Bhandari', nickname='Mal',  lastname='Bhandari', datetime='None')>\n",
      "<User(id='3', name='Abdul', fullname='Abdul Sattar', nickname='A',  lastname='Sattar', datetime='None')>\n"
     ]
    }
   ],
   "source": [
    "for u in session.query(User).order_by(User.id)[1:3]:\n",
    "    print(u)"
   ]
  },
  {
   "cell_type": "code",
   "execution_count": 13,
   "metadata": {},
   "outputs": [
    {
     "name": "stdout",
     "output_type": "stream",
     "text": [
      "2020-12-21 17:01:27,997 INFO sqlalchemy.engine.base.Engine SELECT users.nickname AS users_nickname, users.lastname AS users_lastname \n",
      "FROM users ORDER BY users.lastname\n",
      " LIMIT ? OFFSET ?\n",
      "2020-12-21 17:01:27,998 INFO sqlalchemy.engine.base.Engine (2, 1)\n",
      "Raj Khamir\n",
      "Pri Rajhans\n"
     ]
    }
   ],
   "source": [
    "for nickname, lastname in session.query(User.nickname, User.lastname).order_by(User.lastname)[1:3]:\n",
    "    print(nickname, lastname)"
   ]
  },
  {
   "cell_type": "code",
   "execution_count": 14,
   "metadata": {},
   "outputs": [
    {
     "name": "stdout",
     "output_type": "stream",
     "text": [
      "2020-12-21 17:01:28,466 INFO sqlalchemy.engine.base.Engine SELECT users.id AS users_id, users.name AS users_name, users.fullname AS users_fullname, users.nickname AS users_nickname, users.lastname AS users_lastname, users.datetime AS users_datetime \n",
      "FROM users \n",
      "WHERE users.fullname = ?\n",
      "2020-12-21 17:01:28,467 INFO sqlalchemy.engine.base.Engine ('Rajiv Kamir',)\n",
      "<User(id='1', name='Rajiv', fullname='Rajiv Kamir', nickname='Raj',  lastname='Khamir', datetime='None')>\n"
     ]
    }
   ],
   "source": [
    "for u in session.query(User).filter(User.fullname=='Rajiv Kamir'):\n",
    "    print(u)"
   ]
  },
  {
   "cell_type": "markdown",
   "metadata": {},
   "source": [
    "## Normal SQL Queries\n",
    "[Go back to the Table of Contents](#Contents)"
   ]
  },
  {
   "cell_type": "code",
   "execution_count": null,
   "metadata": {},
   "outputs": [],
   "source": [
    "#SQL\n",
    "# Remove Duplicate Entries\n",
    "# An analyst just realized that there is a duplicate entry in the contactInfo table! Find and remove it.\n",
    "\n",
    "#Your code here; find the duplicate entry\n",
    "cur.execute(\"\"\"SELECT firstName, lastName, telephone, COUNT(*) \n",
    "               FROM contactInfo\n",
    "               GROUP BY 1,2,3\n",
    "               HAVING COUNT(*) > 1;\"\"\").fetchall()\n",
    "[('Jane', 'Evans', 3259909290, 2)]\n",
    "#Your code here; delete the duplicate entry\n",
    "cur.execute('''DELETE FROM contactInfo WHERE telephone = 3259909290;''')\n",
    "<sqlite3.Cursor at 0x112a06500>\n",
    "#Your code here; check that the duplicate entry was removed.\n",
    "cur.execute(\"\"\"SELECT firstName, lastName, telephone, COUNT(*) \n",
    "               FROM contactInfo\n",
    "               GROUP BY 1,2,3\n",
    "               HAVING COUNT(*) > 1;\"\"\").fetchall()\n",
    "\n",
    "#SQL\n",
    "# Updating an Address\n",
    "# Ed Lyman just moved to 2910 Simpson Avenue York, PA 17403. Update his address accordingly.\n",
    "\n",
    "#Your code here; update Ed's address\n",
    "cur.execute('''UPDATE contactInfo\n",
    "               SET street = \"2910 Simpson Avenue\",\n",
    "                   city = 'York',\n",
    "                   state = 'PA',\n",
    "                   zipcode = '17403'\n",
    "               WHERE firstName = \"Ed\" AND lastName = \"Lyman\";\n",
    "            ''')\n",
    "<sqlite3.Cursor at 0x112a06500>\n",
    "#Your code here; Query the database to ensure the change was made\n",
    "cur.execute(\"\"\"SELECT * FROM contactInfo;\"\"\")\n",
    "df = pd.DataFrame(cur.fetchall())\n",
    "df.columns = [x[0] for x in cur.description]\n",
    "df\n",
    "\n",
    "Once again, persist your changes by committing them to the database.\n",
    "\n",
    "#Your code here\n",
    "conn.commit()"
   ]
  }
 ],
 "metadata": {
  "kernelspec": {
   "display_name": "Python 3",
   "language": "python",
   "name": "python3"
  },
  "language_info": {
   "codemirror_mode": {
    "name": "ipython",
    "version": 3
   },
   "file_extension": ".py",
   "mimetype": "text/x-python",
   "name": "python",
   "nbconvert_exporter": "python",
   "pygments_lexer": "ipython3",
   "version": "3.7.2"
  }
 },
 "nbformat": 4,
 "nbformat_minor": 2
}
